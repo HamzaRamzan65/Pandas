{
 "cells": [
  {
   "cell_type": "markdown",
   "id": "02944457",
   "metadata": {
    "papermill": {
     "duration": 0.005618,
     "end_time": "2023-05-28T18:38:03.952788",
     "exception": false,
     "start_time": "2023-05-28T18:38:03.947170",
     "status": "completed"
    },
    "tags": []
   },
   "source": [
    "**This notebook is an exercise in the [Pandas](https://www.kaggle.com/learn/pandas) course.  You can reference the tutorial at [this link](https://www.kaggle.com/residentmario/grouping-and-sorting).**\n",
    "\n",
    "---\n"
   ]
  },
  {
   "cell_type": "markdown",
   "id": "dd24b964",
   "metadata": {
    "papermill": {
     "duration": 0.004767,
     "end_time": "2023-05-28T18:38:03.962631",
     "exception": false,
     "start_time": "2023-05-28T18:38:03.957864",
     "status": "completed"
    },
    "tags": []
   },
   "source": [
    "# Introduction\n",
    "\n",
    "In these exercises we'll apply groupwise analysis to our dataset.\n",
    "\n",
    "Run the code cell below to load the data before running the exercises."
   ]
  },
  {
   "cell_type": "code",
   "execution_count": 1,
   "id": "c26ee2ca",
   "metadata": {
    "execution": {
     "iopub.execute_input": "2023-05-28T18:38:03.975110Z",
     "iopub.status.busy": "2023-05-28T18:38:03.974395Z",
     "iopub.status.idle": "2023-05-28T18:38:06.998581Z",
     "shell.execute_reply": "2023-05-28T18:38:06.997145Z"
    },
    "papermill": {
     "duration": 3.033402,
     "end_time": "2023-05-28T18:38:07.000928",
     "exception": false,
     "start_time": "2023-05-28T18:38:03.967526",
     "status": "completed"
    },
    "tags": []
   },
   "outputs": [
    {
     "name": "stdout",
     "output_type": "stream",
     "text": [
      "Setup complete.\n"
     ]
    }
   ],
   "source": [
    "import pandas as pd\n",
    "\n",
    "reviews = pd.read_csv(\"../input/wine-reviews/winemag-data-130k-v2.csv\", index_col=0)\n",
    "#pd.set_option(\"display.max_rows\", 5)\n",
    "\n",
    "from learntools.core import binder; binder.bind(globals())\n",
    "from learntools.pandas.grouping_and_sorting import *\n",
    "print(\"Setup complete.\")"
   ]
  },
  {
   "cell_type": "markdown",
   "id": "8d73598a",
   "metadata": {
    "papermill": {
     "duration": 0.004474,
     "end_time": "2023-05-28T18:38:07.010610",
     "exception": false,
     "start_time": "2023-05-28T18:38:07.006136",
     "status": "completed"
    },
    "tags": []
   },
   "source": [
    "# Exercises"
   ]
  },
  {
   "cell_type": "markdown",
   "id": "083456e7",
   "metadata": {
    "papermill": {
     "duration": 0.006466,
     "end_time": "2023-05-28T18:38:07.021745",
     "exception": false,
     "start_time": "2023-05-28T18:38:07.015279",
     "status": "completed"
    },
    "tags": []
   },
   "source": [
    "## 1.\n",
    "Who are the most common wine reviewers in the dataset? Create a `Series` whose index is the `taster_twitter_handle` category from the dataset, and whose values count how many reviews each person wrote."
   ]
  },
  {
   "cell_type": "code",
   "execution_count": 2,
   "id": "cb787823",
   "metadata": {
    "execution": {
     "iopub.execute_input": "2023-05-28T18:38:07.034458Z",
     "iopub.status.busy": "2023-05-28T18:38:07.033954Z",
     "iopub.status.idle": "2023-05-28T18:38:07.059910Z",
     "shell.execute_reply": "2023-05-28T18:38:07.058954Z"
    },
    "papermill": {
     "duration": 0.035129,
     "end_time": "2023-05-28T18:38:07.062217",
     "exception": false,
     "start_time": "2023-05-28T18:38:07.027088",
     "status": "completed"
    },
    "tags": []
   },
   "outputs": [
    {
     "data": {
      "application/javascript": [
       "parent.postMessage({\"jupyterEvent\": \"custom.exercise_interaction\", \"data\": {\"outcomeType\": 1, \"valueTowardsCompletion\": 0.16666666666666666, \"interactionType\": 1, \"questionType\": 1, \"questionId\": \"1_ReviewsWritten\", \"learnToolsVersion\": \"0.3.4\", \"failureMessage\": \"\", \"exceptionClass\": \"\", \"trace\": \"\"}}, \"*\")"
      ],
      "text/plain": [
       "<IPython.core.display.Javascript object>"
      ]
     },
     "metadata": {},
     "output_type": "display_data"
    },
    {
     "data": {
      "text/markdown": [
       "<span style=\"color:#33cc33\">Correct:</span> \n",
       "\n",
       "\n",
       "```python\n",
       "reviews_written = reviews.groupby('taster_twitter_handle').size()\n",
       "```\n",
       "or\n",
       "```python\n",
       "reviews_written = reviews.groupby('taster_twitter_handle').taster_twitter_handle.count()\n",
       "```\n"
      ],
      "text/plain": [
       "Correct: \n",
       "\n",
       "\n",
       "```python\n",
       "reviews_written = reviews.groupby('taster_twitter_handle').size()\n",
       "```\n",
       "or\n",
       "```python\n",
       "reviews_written = reviews.groupby('taster_twitter_handle').taster_twitter_handle.count()\n",
       "```"
      ]
     },
     "metadata": {},
     "output_type": "display_data"
    }
   ],
   "source": [
    "# Your code here\n",
    "reviews_written = reviews.groupby('taster_twitter_handle').size()\n",
    "\n",
    "# Check your answer\n",
    "q1.check()"
   ]
  },
  {
   "cell_type": "code",
   "execution_count": 3,
   "id": "becbb3d5",
   "metadata": {
    "execution": {
     "iopub.execute_input": "2023-05-28T18:38:07.076133Z",
     "iopub.status.busy": "2023-05-28T18:38:07.074889Z",
     "iopub.status.idle": "2023-05-28T18:38:07.088877Z",
     "shell.execute_reply": "2023-05-28T18:38:07.086650Z"
    },
    "papermill": {
     "duration": 0.024423,
     "end_time": "2023-05-28T18:38:07.092322",
     "exception": false,
     "start_time": "2023-05-28T18:38:07.067899",
     "status": "completed"
    },
    "tags": []
   },
   "outputs": [
    {
     "data": {
      "application/javascript": [
       "parent.postMessage({\"jupyterEvent\": \"custom.exercise_interaction\", \"data\": {\"interactionType\": 3, \"questionType\": 1, \"questionId\": \"1_ReviewsWritten\", \"learnToolsVersion\": \"0.3.4\", \"valueTowardsCompletion\": 0.0, \"failureMessage\": \"\", \"exceptionClass\": \"\", \"trace\": \"\", \"outcomeType\": 4}}, \"*\")"
      ],
      "text/plain": [
       "<IPython.core.display.Javascript object>"
      ]
     },
     "metadata": {},
     "output_type": "display_data"
    },
    {
     "data": {
      "text/markdown": [
       "<span style=\"color:#33cc99\">Solution:</span> \n",
       "```python\n",
       "reviews_written = reviews.groupby('taster_twitter_handle').size()\n",
       "```\n",
       "or\n",
       "```python\n",
       "reviews_written = reviews.groupby('taster_twitter_handle').taster_twitter_handle.count()\n",
       "```\n"
      ],
      "text/plain": [
       "Solution: \n",
       "```python\n",
       "reviews_written = reviews.groupby('taster_twitter_handle').size()\n",
       "```\n",
       "or\n",
       "```python\n",
       "reviews_written = reviews.groupby('taster_twitter_handle').taster_twitter_handle.count()\n",
       "```"
      ]
     },
     "metadata": {},
     "output_type": "display_data"
    }
   ],
   "source": [
    "#q1.hint()\n",
    "q1.solution()"
   ]
  },
  {
   "cell_type": "markdown",
   "id": "6170e2e7",
   "metadata": {
    "papermill": {
     "duration": 0.005486,
     "end_time": "2023-05-28T18:38:07.104107",
     "exception": false,
     "start_time": "2023-05-28T18:38:07.098621",
     "status": "completed"
    },
    "tags": []
   },
   "source": [
    "## 2.\n",
    "What is the best wine I can buy for a given amount of money? Create a `Series` whose index is wine prices and whose values is the maximum number of points a wine costing that much was given in a review. Sort the values by price, ascending (so that `4.0` dollars is at the top and `3300.0` dollars is at the bottom)."
   ]
  },
  {
   "cell_type": "code",
   "execution_count": 4,
   "id": "d5814b2d",
   "metadata": {
    "execution": {
     "iopub.execute_input": "2023-05-28T18:38:07.117865Z",
     "iopub.status.busy": "2023-05-28T18:38:07.117410Z",
     "iopub.status.idle": "2023-05-28T18:38:07.131530Z",
     "shell.execute_reply": "2023-05-28T18:38:07.130123Z"
    },
    "papermill": {
     "duration": 0.023898,
     "end_time": "2023-05-28T18:38:07.133744",
     "exception": false,
     "start_time": "2023-05-28T18:38:07.109846",
     "status": "completed"
    },
    "tags": []
   },
   "outputs": [
    {
     "data": {
      "application/javascript": [
       "parent.postMessage({\"jupyterEvent\": \"custom.exercise_interaction\", \"data\": {\"outcomeType\": 1, \"valueTowardsCompletion\": 0.16666666666666666, \"interactionType\": 1, \"questionType\": 1, \"questionId\": \"2_BestRatingPerPrice\", \"learnToolsVersion\": \"0.3.4\", \"failureMessage\": \"\", \"exceptionClass\": \"\", \"trace\": \"\"}}, \"*\")"
      ],
      "text/plain": [
       "<IPython.core.display.Javascript object>"
      ]
     },
     "metadata": {},
     "output_type": "display_data"
    },
    {
     "data": {
      "text/markdown": [
       "<span style=\"color:#33cc33\">Correct</span>"
      ],
      "text/plain": [
       "Correct"
      ]
     },
     "metadata": {},
     "output_type": "display_data"
    }
   ],
   "source": [
    "best_rating_per_price = reviews.groupby('price')['points'].max().sort_index()\n",
    "\n",
    "# Check your answer\n",
    "q2.check()"
   ]
  },
  {
   "cell_type": "code",
   "execution_count": 5,
   "id": "bd5c2d95",
   "metadata": {
    "execution": {
     "iopub.execute_input": "2023-05-28T18:38:07.148118Z",
     "iopub.status.busy": "2023-05-28T18:38:07.147703Z",
     "iopub.status.idle": "2023-05-28T18:38:07.159491Z",
     "shell.execute_reply": "2023-05-28T18:38:07.158056Z"
    },
    "papermill": {
     "duration": 0.022419,
     "end_time": "2023-05-28T18:38:07.162386",
     "exception": false,
     "start_time": "2023-05-28T18:38:07.139967",
     "status": "completed"
    },
    "tags": []
   },
   "outputs": [
    {
     "data": {
      "application/javascript": [
       "parent.postMessage({\"jupyterEvent\": \"custom.exercise_interaction\", \"data\": {\"interactionType\": 3, \"questionType\": 1, \"questionId\": \"2_BestRatingPerPrice\", \"learnToolsVersion\": \"0.3.4\", \"valueTowardsCompletion\": 0.0, \"failureMessage\": \"\", \"exceptionClass\": \"\", \"trace\": \"\", \"outcomeType\": 4}}, \"*\")"
      ],
      "text/plain": [
       "<IPython.core.display.Javascript object>"
      ]
     },
     "metadata": {},
     "output_type": "display_data"
    },
    {
     "data": {
      "text/markdown": [
       "<span style=\"color:#33cc99\">Solution:</span> \n",
       "```python\n",
       "best_rating_per_price = reviews.groupby('price')['points'].max().sort_index()\n",
       "```"
      ],
      "text/plain": [
       "Solution: \n",
       "```python\n",
       "best_rating_per_price = reviews.groupby('price')['points'].max().sort_index()\n",
       "```"
      ]
     },
     "metadata": {},
     "output_type": "display_data"
    }
   ],
   "source": [
    "#q2.hint()\n",
    "q2.solution()"
   ]
  },
  {
   "cell_type": "markdown",
   "id": "5369f26d",
   "metadata": {
    "papermill": {
     "duration": 0.005613,
     "end_time": "2023-05-28T18:38:07.174418",
     "exception": false,
     "start_time": "2023-05-28T18:38:07.168805",
     "status": "completed"
    },
    "tags": []
   },
   "source": [
    "## 3.\n",
    "What are the minimum and maximum prices for each `variety` of wine? Create a `DataFrame` whose index is the `variety` category from the dataset and whose values are the `min` and `max` values thereof."
   ]
  },
  {
   "cell_type": "code",
   "execution_count": 6,
   "id": "79e43119",
   "metadata": {
    "execution": {
     "iopub.execute_input": "2023-05-28T18:38:07.190033Z",
     "iopub.status.busy": "2023-05-28T18:38:07.189569Z",
     "iopub.status.idle": "2023-05-28T18:38:07.216802Z",
     "shell.execute_reply": "2023-05-28T18:38:07.215619Z"
    },
    "papermill": {
     "duration": 0.038845,
     "end_time": "2023-05-28T18:38:07.218894",
     "exception": false,
     "start_time": "2023-05-28T18:38:07.180049",
     "status": "completed"
    },
    "tags": []
   },
   "outputs": [
    {
     "data": {
      "application/javascript": [
       "parent.postMessage({\"jupyterEvent\": \"custom.exercise_interaction\", \"data\": {\"outcomeType\": 1, \"valueTowardsCompletion\": 0.16666666666666666, \"interactionType\": 1, \"questionType\": 1, \"questionId\": \"3_PriceExtremes\", \"learnToolsVersion\": \"0.3.4\", \"failureMessage\": \"\", \"exceptionClass\": \"\", \"trace\": \"\"}}, \"*\")"
      ],
      "text/plain": [
       "<IPython.core.display.Javascript object>"
      ]
     },
     "metadata": {},
     "output_type": "display_data"
    },
    {
     "data": {
      "text/markdown": [
       "<span style=\"color:#33cc33\">Correct</span>"
      ],
      "text/plain": [
       "Correct"
      ]
     },
     "metadata": {},
     "output_type": "display_data"
    }
   ],
   "source": [
    "price_extremes = reviews.groupby('variety').price.agg([min, max])\n",
    "\n",
    "# Check your answer\n",
    "q3.check()"
   ]
  },
  {
   "cell_type": "code",
   "execution_count": 7,
   "id": "f695ba8a",
   "metadata": {
    "execution": {
     "iopub.execute_input": "2023-05-28T18:38:07.235510Z",
     "iopub.status.busy": "2023-05-28T18:38:07.234375Z",
     "iopub.status.idle": "2023-05-28T18:38:07.243696Z",
     "shell.execute_reply": "2023-05-28T18:38:07.242672Z"
    },
    "papermill": {
     "duration": 0.020476,
     "end_time": "2023-05-28T18:38:07.246171",
     "exception": false,
     "start_time": "2023-05-28T18:38:07.225695",
     "status": "completed"
    },
    "tags": []
   },
   "outputs": [
    {
     "data": {
      "application/javascript": [
       "parent.postMessage({\"jupyterEvent\": \"custom.exercise_interaction\", \"data\": {\"interactionType\": 3, \"questionType\": 1, \"questionId\": \"3_PriceExtremes\", \"learnToolsVersion\": \"0.3.4\", \"valueTowardsCompletion\": 0.0, \"failureMessage\": \"\", \"exceptionClass\": \"\", \"trace\": \"\", \"outcomeType\": 4}}, \"*\")"
      ],
      "text/plain": [
       "<IPython.core.display.Javascript object>"
      ]
     },
     "metadata": {},
     "output_type": "display_data"
    },
    {
     "data": {
      "text/markdown": [
       "<span style=\"color:#33cc99\">Solution:</span> \n",
       "```python\n",
       "price_extremes = reviews.groupby('variety').price.agg([min, max])\n",
       "```"
      ],
      "text/plain": [
       "Solution: \n",
       "```python\n",
       "price_extremes = reviews.groupby('variety').price.agg([min, max])\n",
       "```"
      ]
     },
     "metadata": {},
     "output_type": "display_data"
    }
   ],
   "source": [
    "#q3.hint()\n",
    "q3.solution()"
   ]
  },
  {
   "cell_type": "markdown",
   "id": "6a25ffbf",
   "metadata": {
    "papermill": {
     "duration": 0.006109,
     "end_time": "2023-05-28T18:38:07.259002",
     "exception": false,
     "start_time": "2023-05-28T18:38:07.252893",
     "status": "completed"
    },
    "tags": []
   },
   "source": [
    "## 4.\n",
    "What are the most expensive wine varieties? Create a variable `sorted_varieties` containing a copy of the dataframe from the previous question where varieties are sorted in descending order based on minimum price, then on maximum price (to break ties)."
   ]
  },
  {
   "cell_type": "code",
   "execution_count": 8,
   "id": "f426f426",
   "metadata": {
    "execution": {
     "iopub.execute_input": "2023-05-28T18:38:07.275729Z",
     "iopub.status.busy": "2023-05-28T18:38:07.274241Z",
     "iopub.status.idle": "2023-05-28T18:38:07.286962Z",
     "shell.execute_reply": "2023-05-28T18:38:07.285693Z"
    },
    "papermill": {
     "duration": 0.023096,
     "end_time": "2023-05-28T18:38:07.288820",
     "exception": false,
     "start_time": "2023-05-28T18:38:07.265724",
     "status": "completed"
    },
    "tags": []
   },
   "outputs": [
    {
     "data": {
      "application/javascript": [
       "parent.postMessage({\"jupyterEvent\": \"custom.exercise_interaction\", \"data\": {\"outcomeType\": 1, \"valueTowardsCompletion\": 0.16666666666666666, \"interactionType\": 1, \"questionType\": 1, \"questionId\": \"4_SortedVarieties\", \"learnToolsVersion\": \"0.3.4\", \"failureMessage\": \"\", \"exceptionClass\": \"\", \"trace\": \"\"}}, \"*\")"
      ],
      "text/plain": [
       "<IPython.core.display.Javascript object>"
      ]
     },
     "metadata": {},
     "output_type": "display_data"
    },
    {
     "data": {
      "text/markdown": [
       "<span style=\"color:#33cc33\">Correct</span>"
      ],
      "text/plain": [
       "Correct"
      ]
     },
     "metadata": {},
     "output_type": "display_data"
    }
   ],
   "source": [
    "sorted_varieties = price_extremes.sort_values(by=['min', 'max'], ascending=False)\n",
    "\n",
    "# Check your answer\n",
    "q4.check()"
   ]
  },
  {
   "cell_type": "code",
   "execution_count": 9,
   "id": "d5f684ef",
   "metadata": {
    "execution": {
     "iopub.execute_input": "2023-05-28T18:38:07.305113Z",
     "iopub.status.busy": "2023-05-28T18:38:07.304221Z",
     "iopub.status.idle": "2023-05-28T18:38:07.311057Z",
     "shell.execute_reply": "2023-05-28T18:38:07.310196Z"
    },
    "papermill": {
     "duration": 0.016883,
     "end_time": "2023-05-28T18:38:07.312780",
     "exception": false,
     "start_time": "2023-05-28T18:38:07.295897",
     "status": "completed"
    },
    "tags": []
   },
   "outputs": [
    {
     "data": {
      "application/javascript": [
       "parent.postMessage({\"jupyterEvent\": \"custom.exercise_interaction\", \"data\": {\"interactionType\": 3, \"questionType\": 1, \"questionId\": \"4_SortedVarieties\", \"learnToolsVersion\": \"0.3.4\", \"valueTowardsCompletion\": 0.0, \"failureMessage\": \"\", \"exceptionClass\": \"\", \"trace\": \"\", \"outcomeType\": 4}}, \"*\")"
      ],
      "text/plain": [
       "<IPython.core.display.Javascript object>"
      ]
     },
     "metadata": {},
     "output_type": "display_data"
    },
    {
     "data": {
      "text/markdown": [
       "<span style=\"color:#33cc99\">Solution:</span> \n",
       "```python\n",
       "sorted_varieties = price_extremes.sort_values(by=['min', 'max'], ascending=False)\n",
       "```"
      ],
      "text/plain": [
       "Solution: \n",
       "```python\n",
       "sorted_varieties = price_extremes.sort_values(by=['min', 'max'], ascending=False)\n",
       "```"
      ]
     },
     "metadata": {},
     "output_type": "display_data"
    }
   ],
   "source": [
    "#q4.hint()\n",
    "q4.solution()"
   ]
  },
  {
   "cell_type": "markdown",
   "id": "09b9ae7c",
   "metadata": {
    "papermill": {
     "duration": 0.006308,
     "end_time": "2023-05-28T18:38:07.326380",
     "exception": false,
     "start_time": "2023-05-28T18:38:07.320072",
     "status": "completed"
    },
    "tags": []
   },
   "source": [
    "## 5.\n",
    "Create a `Series` whose index is reviewers and whose values is the average review score given out by that reviewer. Hint: you will need the `taster_name` and `points` columns."
   ]
  },
  {
   "cell_type": "code",
   "execution_count": 10,
   "id": "327b82c3",
   "metadata": {
    "execution": {
     "iopub.execute_input": "2023-05-28T18:38:07.341778Z",
     "iopub.status.busy": "2023-05-28T18:38:07.341049Z",
     "iopub.status.idle": "2023-05-28T18:38:07.360533Z",
     "shell.execute_reply": "2023-05-28T18:38:07.359594Z"
    },
    "papermill": {
     "duration": 0.029613,
     "end_time": "2023-05-28T18:38:07.362331",
     "exception": false,
     "start_time": "2023-05-28T18:38:07.332718",
     "status": "completed"
    },
    "tags": []
   },
   "outputs": [
    {
     "data": {
      "application/javascript": [
       "parent.postMessage({\"jupyterEvent\": \"custom.exercise_interaction\", \"data\": {\"outcomeType\": 1, \"valueTowardsCompletion\": 0.16666666666666666, \"interactionType\": 1, \"questionType\": 1, \"questionId\": \"5_ReviewerMeanRatings\", \"learnToolsVersion\": \"0.3.4\", \"failureMessage\": \"\", \"exceptionClass\": \"\", \"trace\": \"\"}}, \"*\")"
      ],
      "text/plain": [
       "<IPython.core.display.Javascript object>"
      ]
     },
     "metadata": {},
     "output_type": "display_data"
    },
    {
     "data": {
      "text/markdown": [
       "<span style=\"color:#33cc33\">Correct</span>"
      ],
      "text/plain": [
       "Correct"
      ]
     },
     "metadata": {},
     "output_type": "display_data"
    }
   ],
   "source": [
    "reviewer_mean_ratings = reviews.groupby('taster_name').points.mean()\n",
    "\n",
    "# Check your answer\n",
    "q5.check()"
   ]
  },
  {
   "cell_type": "code",
   "execution_count": 11,
   "id": "3e4ac2b9",
   "metadata": {
    "execution": {
     "iopub.execute_input": "2023-05-28T18:38:07.380436Z",
     "iopub.status.busy": "2023-05-28T18:38:07.379769Z",
     "iopub.status.idle": "2023-05-28T18:38:07.387644Z",
     "shell.execute_reply": "2023-05-28T18:38:07.386722Z"
    },
    "papermill": {
     "duration": 0.020469,
     "end_time": "2023-05-28T18:38:07.390396",
     "exception": false,
     "start_time": "2023-05-28T18:38:07.369927",
     "status": "completed"
    },
    "tags": []
   },
   "outputs": [
    {
     "data": {
      "application/javascript": [
       "parent.postMessage({\"jupyterEvent\": \"custom.exercise_interaction\", \"data\": {\"interactionType\": 3, \"questionType\": 1, \"questionId\": \"5_ReviewerMeanRatings\", \"learnToolsVersion\": \"0.3.4\", \"valueTowardsCompletion\": 0.0, \"failureMessage\": \"\", \"exceptionClass\": \"\", \"trace\": \"\", \"outcomeType\": 4}}, \"*\")"
      ],
      "text/plain": [
       "<IPython.core.display.Javascript object>"
      ]
     },
     "metadata": {},
     "output_type": "display_data"
    },
    {
     "data": {
      "text/markdown": [
       "<span style=\"color:#33cc99\">Solution:</span> \n",
       "```python\n",
       "reviewer_mean_ratings = reviews.groupby('taster_name').points.mean()\n",
       "```"
      ],
      "text/plain": [
       "Solution: \n",
       "```python\n",
       "reviewer_mean_ratings = reviews.groupby('taster_name').points.mean()\n",
       "```"
      ]
     },
     "metadata": {},
     "output_type": "display_data"
    }
   ],
   "source": [
    "#q5.hint()\n",
    "q5.solution()"
   ]
  },
  {
   "cell_type": "markdown",
   "id": "c04e748e",
   "metadata": {
    "papermill": {
     "duration": 0.007615,
     "end_time": "2023-05-28T18:38:07.406322",
     "exception": false,
     "start_time": "2023-05-28T18:38:07.398707",
     "status": "completed"
    },
    "tags": []
   },
   "source": [
    "Are there significant differences in the average scores assigned by the various reviewers? Run the cell below to use the `describe()` method to see a summary of the range of values."
   ]
  },
  {
   "cell_type": "code",
   "execution_count": 12,
   "id": "b61b0136",
   "metadata": {
    "execution": {
     "iopub.execute_input": "2023-05-28T18:38:07.423841Z",
     "iopub.status.busy": "2023-05-28T18:38:07.423373Z",
     "iopub.status.idle": "2023-05-28T18:38:07.441753Z",
     "shell.execute_reply": "2023-05-28T18:38:07.439946Z"
    },
    "papermill": {
     "duration": 0.029996,
     "end_time": "2023-05-28T18:38:07.443984",
     "exception": false,
     "start_time": "2023-05-28T18:38:07.413988",
     "status": "completed"
    },
    "tags": []
   },
   "outputs": [
    {
     "data": {
      "text/plain": [
       "count    19.000000\n",
       "mean     88.233026\n",
       "std       1.243610\n",
       "min      85.855422\n",
       "25%      87.323501\n",
       "50%      88.536235\n",
       "75%      88.975256\n",
       "max      90.562551\n",
       "Name: points, dtype: float64"
      ]
     },
     "execution_count": 12,
     "metadata": {},
     "output_type": "execute_result"
    }
   ],
   "source": [
    "reviewer_mean_ratings.describe()"
   ]
  },
  {
   "cell_type": "markdown",
   "id": "ec733341",
   "metadata": {
    "papermill": {
     "duration": 0.007921,
     "end_time": "2023-05-28T18:38:07.459933",
     "exception": false,
     "start_time": "2023-05-28T18:38:07.452012",
     "status": "completed"
    },
    "tags": []
   },
   "source": [
    "## 6.\n",
    "What combination of countries and varieties are most common? Create a `Series` whose index is a `MultiIndex`of `{country, variety}` pairs. For example, a pinot noir produced in the US should map to `{\"US\", \"Pinot Noir\"}`. Sort the values in the `Series` in descending order based on wine count."
   ]
  },
  {
   "cell_type": "code",
   "execution_count": 13,
   "id": "4b4ef3c2",
   "metadata": {
    "execution": {
     "iopub.execute_input": "2023-05-28T18:38:07.478311Z",
     "iopub.status.busy": "2023-05-28T18:38:07.477901Z",
     "iopub.status.idle": "2023-05-28T18:38:07.509974Z",
     "shell.execute_reply": "2023-05-28T18:38:07.509066Z"
    },
    "papermill": {
     "duration": 0.043778,
     "end_time": "2023-05-28T18:38:07.512135",
     "exception": false,
     "start_time": "2023-05-28T18:38:07.468357",
     "status": "completed"
    },
    "tags": []
   },
   "outputs": [
    {
     "data": {
      "application/javascript": [
       "parent.postMessage({\"jupyterEvent\": \"custom.exercise_interaction\", \"data\": {\"outcomeType\": 1, \"valueTowardsCompletion\": 0.16666666666666666, \"interactionType\": 1, \"questionType\": 1, \"questionId\": \"6_GroupbyCountryVariety\", \"learnToolsVersion\": \"0.3.4\", \"failureMessage\": \"\", \"exceptionClass\": \"\", \"trace\": \"\"}}, \"*\")"
      ],
      "text/plain": [
       "<IPython.core.display.Javascript object>"
      ]
     },
     "metadata": {},
     "output_type": "display_data"
    },
    {
     "data": {
      "text/markdown": [
       "<span style=\"color:#33cc33\">Correct</span>"
      ],
      "text/plain": [
       "Correct"
      ]
     },
     "metadata": {},
     "output_type": "display_data"
    }
   ],
   "source": [
    "country_variety_counts = reviews.groupby(['country', 'variety']).size().sort_values(ascending=False)\n",
    "\n",
    "# Check your answer\n",
    "q6.check()"
   ]
  },
  {
   "cell_type": "code",
   "execution_count": 14,
   "id": "491aa2fc",
   "metadata": {
    "execution": {
     "iopub.execute_input": "2023-05-28T18:38:07.530243Z",
     "iopub.status.busy": "2023-05-28T18:38:07.529678Z",
     "iopub.status.idle": "2023-05-28T18:38:07.537951Z",
     "shell.execute_reply": "2023-05-28T18:38:07.536051Z"
    },
    "papermill": {
     "duration": 0.02019,
     "end_time": "2023-05-28T18:38:07.540237",
     "exception": false,
     "start_time": "2023-05-28T18:38:07.520047",
     "status": "completed"
    },
    "tags": []
   },
   "outputs": [
    {
     "data": {
      "application/javascript": [
       "parent.postMessage({\"jupyterEvent\": \"custom.exercise_interaction\", \"data\": {\"interactionType\": 3, \"questionType\": 1, \"questionId\": \"6_GroupbyCountryVariety\", \"learnToolsVersion\": \"0.3.4\", \"valueTowardsCompletion\": 0.0, \"failureMessage\": \"\", \"exceptionClass\": \"\", \"trace\": \"\", \"outcomeType\": 4}}, \"*\")"
      ],
      "text/plain": [
       "<IPython.core.display.Javascript object>"
      ]
     },
     "metadata": {},
     "output_type": "display_data"
    },
    {
     "data": {
      "text/markdown": [
       "<span style=\"color:#33cc99\">Solution:</span> \n",
       "```python\n",
       "country_variety_counts = reviews.groupby(['country', 'variety']).size().sort_values(ascending=False)\n",
       "```"
      ],
      "text/plain": [
       "Solution: \n",
       "```python\n",
       "country_variety_counts = reviews.groupby(['country', 'variety']).size().sort_values(ascending=False)\n",
       "```"
      ]
     },
     "metadata": {},
     "output_type": "display_data"
    }
   ],
   "source": [
    "#q6.hint()\n",
    "q6.solution()"
   ]
  },
  {
   "cell_type": "markdown",
   "id": "3c738f96",
   "metadata": {
    "papermill": {
     "duration": 0.008248,
     "end_time": "2023-05-28T18:38:07.557272",
     "exception": false,
     "start_time": "2023-05-28T18:38:07.549024",
     "status": "completed"
    },
    "tags": []
   },
   "source": [
    "# Keep going\n",
    "\n",
    "Move on to the [**data types and missing data**](https://www.kaggle.com/residentmario/data-types-and-missing-values)."
   ]
  },
  {
   "cell_type": "markdown",
   "id": "257f81ff",
   "metadata": {
    "papermill": {
     "duration": 0.008396,
     "end_time": "2023-05-28T18:38:07.574511",
     "exception": false,
     "start_time": "2023-05-28T18:38:07.566115",
     "status": "completed"
    },
    "tags": []
   },
   "source": [
    "---\n",
    "\n",
    "\n",
    "\n",
    "\n",
    "*Have questions or comments? Visit the [course discussion forum](https://www.kaggle.com/learn/pandas/discussion) to chat with other learners.*"
   ]
  }
 ],
 "metadata": {
  "kernelspec": {
   "display_name": "Python 3",
   "language": "python",
   "name": "python3"
  },
  "language_info": {
   "codemirror_mode": {
    "name": "ipython",
    "version": 3
   },
   "file_extension": ".py",
   "mimetype": "text/x-python",
   "name": "python",
   "nbconvert_exporter": "python",
   "pygments_lexer": "ipython3",
   "version": "3.10.10"
  },
  "papermill": {
   "default_parameters": {},
   "duration": 14.230889,
   "end_time": "2023-05-28T18:38:08.907884",
   "environment_variables": {},
   "exception": null,
   "input_path": "__notebook__.ipynb",
   "output_path": "__notebook__.ipynb",
   "parameters": {},
   "start_time": "2023-05-28T18:37:54.676995",
   "version": "2.4.0"
  }
 },
 "nbformat": 4,
 "nbformat_minor": 5
}
