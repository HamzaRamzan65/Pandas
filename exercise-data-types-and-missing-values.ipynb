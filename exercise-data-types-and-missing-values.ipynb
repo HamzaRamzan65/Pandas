{
 "cells": [
  {
   "cell_type": "markdown",
   "id": "0279a200",
   "metadata": {
    "papermill": {
     "duration": 0.006279,
     "end_time": "2023-05-28T18:42:09.710614",
     "exception": false,
     "start_time": "2023-05-28T18:42:09.704335",
     "status": "completed"
    },
    "tags": []
   },
   "source": [
    "**This notebook is an exercise in the [Pandas](https://www.kaggle.com/learn/pandas) course.  You can reference the tutorial at [this link](https://www.kaggle.com/residentmario/data-types-and-missing-values).**\n",
    "\n",
    "---\n"
   ]
  },
  {
   "cell_type": "markdown",
   "id": "185c764c",
   "metadata": {
    "papermill": {
     "duration": 0.005398,
     "end_time": "2023-05-28T18:42:09.721907",
     "exception": false,
     "start_time": "2023-05-28T18:42:09.716509",
     "status": "completed"
    },
    "tags": []
   },
   "source": [
    "# Introduction\n",
    "\n",
    "Run the following cell to load your data and some utility functions."
   ]
  },
  {
   "cell_type": "code",
   "execution_count": 1,
   "id": "31bfecb9",
   "metadata": {
    "execution": {
     "iopub.execute_input": "2023-05-28T18:42:09.735777Z",
     "iopub.status.busy": "2023-05-28T18:42:09.735090Z",
     "iopub.status.idle": "2023-05-28T18:42:13.366462Z",
     "shell.execute_reply": "2023-05-28T18:42:13.364820Z"
    },
    "papermill": {
     "duration": 3.64207,
     "end_time": "2023-05-28T18:42:13.369536",
     "exception": false,
     "start_time": "2023-05-28T18:42:09.727466",
     "status": "completed"
    },
    "tags": []
   },
   "outputs": [
    {
     "name": "stdout",
     "output_type": "stream",
     "text": [
      "Setup complete.\n"
     ]
    }
   ],
   "source": [
    "import pandas as pd\n",
    "\n",
    "reviews = pd.read_csv(\"../input/wine-reviews/winemag-data-130k-v2.csv\", index_col=0)\n",
    "\n",
    "from learntools.core import binder; binder.bind(globals())\n",
    "from learntools.pandas.data_types_and_missing_data import *\n",
    "print(\"Setup complete.\")"
   ]
  },
  {
   "cell_type": "markdown",
   "id": "41d588c1",
   "metadata": {
    "papermill": {
     "duration": 0.006404,
     "end_time": "2023-05-28T18:42:13.382902",
     "exception": false,
     "start_time": "2023-05-28T18:42:13.376498",
     "status": "completed"
    },
    "tags": []
   },
   "source": [
    "# Exercises"
   ]
  },
  {
   "cell_type": "markdown",
   "id": "8132e116",
   "metadata": {
    "papermill": {
     "duration": 0.006179,
     "end_time": "2023-05-28T18:42:13.396121",
     "exception": false,
     "start_time": "2023-05-28T18:42:13.389942",
     "status": "completed"
    },
    "tags": []
   },
   "source": [
    "## 1. \n",
    "What is the data type of the `points` column in the dataset?"
   ]
  },
  {
   "cell_type": "code",
   "execution_count": 2,
   "id": "1468e40b",
   "metadata": {
    "execution": {
     "iopub.execute_input": "2023-05-28T18:42:13.412349Z",
     "iopub.status.busy": "2023-05-28T18:42:13.411440Z",
     "iopub.status.idle": "2023-05-28T18:42:13.420913Z",
     "shell.execute_reply": "2023-05-28T18:42:13.420027Z"
    },
    "papermill": {
     "duration": 0.020516,
     "end_time": "2023-05-28T18:42:13.423651",
     "exception": false,
     "start_time": "2023-05-28T18:42:13.403135",
     "status": "completed"
    },
    "tags": []
   },
   "outputs": [
    {
     "data": {
      "application/javascript": [
       "parent.postMessage({\"jupyterEvent\": \"custom.exercise_interaction\", \"data\": {\"outcomeType\": 1, \"valueTowardsCompletion\": 0.25, \"interactionType\": 1, \"questionType\": 1, \"questionId\": \"1_PointsDtype\", \"learnToolsVersion\": \"0.3.4\", \"failureMessage\": \"\", \"exceptionClass\": \"\", \"trace\": \"\"}}, \"*\")"
      ],
      "text/plain": [
       "<IPython.core.display.Javascript object>"
      ]
     },
     "metadata": {},
     "output_type": "display_data"
    },
    {
     "data": {
      "text/markdown": [
       "<span style=\"color:#33cc33\">Correct</span>"
      ],
      "text/plain": [
       "Correct"
      ]
     },
     "metadata": {},
     "output_type": "display_data"
    }
   ],
   "source": [
    "# Your code here\n",
    "dtype = reviews.points.dtype\n",
    "\n",
    "# Check your answer\n",
    "q1.check()"
   ]
  },
  {
   "cell_type": "code",
   "execution_count": 3,
   "id": "fefd7847",
   "metadata": {
    "execution": {
     "iopub.execute_input": "2023-05-28T18:42:13.440450Z",
     "iopub.status.busy": "2023-05-28T18:42:13.440034Z",
     "iopub.status.idle": "2023-05-28T18:42:13.447933Z",
     "shell.execute_reply": "2023-05-28T18:42:13.447037Z"
    },
    "papermill": {
     "duration": 0.018214,
     "end_time": "2023-05-28T18:42:13.450381",
     "exception": false,
     "start_time": "2023-05-28T18:42:13.432167",
     "status": "completed"
    },
    "tags": []
   },
   "outputs": [
    {
     "data": {
      "application/javascript": [
       "parent.postMessage({\"jupyterEvent\": \"custom.exercise_interaction\", \"data\": {\"interactionType\": 3, \"questionType\": 1, \"questionId\": \"1_PointsDtype\", \"learnToolsVersion\": \"0.3.4\", \"valueTowardsCompletion\": 0.0, \"failureMessage\": \"\", \"exceptionClass\": \"\", \"trace\": \"\", \"outcomeType\": 4}}, \"*\")"
      ],
      "text/plain": [
       "<IPython.core.display.Javascript object>"
      ]
     },
     "metadata": {},
     "output_type": "display_data"
    },
    {
     "data": {
      "text/markdown": [
       "<span style=\"color:#33cc99\">Solution:</span> \n",
       "```python\n",
       "dtype = reviews.points.dtype\n",
       "```"
      ],
      "text/plain": [
       "Solution: \n",
       "```python\n",
       "dtype = reviews.points.dtype\n",
       "```"
      ]
     },
     "metadata": {},
     "output_type": "display_data"
    }
   ],
   "source": [
    "#q1.hint()\n",
    "q1.solution()"
   ]
  },
  {
   "cell_type": "markdown",
   "id": "d9842ff1",
   "metadata": {
    "papermill": {
     "duration": 0.006683,
     "end_time": "2023-05-28T18:42:13.464057",
     "exception": false,
     "start_time": "2023-05-28T18:42:13.457374",
     "status": "completed"
    },
    "tags": []
   },
   "source": [
    "## 2. \n",
    "Create a Series from entries in the `points` column, but convert the entries to strings. Hint: strings are `str` in native Python."
   ]
  },
  {
   "cell_type": "code",
   "execution_count": 4,
   "id": "6e2ae62d",
   "metadata": {
    "execution": {
     "iopub.execute_input": "2023-05-28T18:42:13.480927Z",
     "iopub.status.busy": "2023-05-28T18:42:13.480519Z",
     "iopub.status.idle": "2023-05-28T18:42:13.582650Z",
     "shell.execute_reply": "2023-05-28T18:42:13.581797Z"
    },
    "papermill": {
     "duration": 0.114528,
     "end_time": "2023-05-28T18:42:13.586119",
     "exception": false,
     "start_time": "2023-05-28T18:42:13.471591",
     "status": "completed"
    },
    "tags": []
   },
   "outputs": [
    {
     "data": {
      "application/javascript": [
       "parent.postMessage({\"jupyterEvent\": \"custom.exercise_interaction\", \"data\": {\"outcomeType\": 1, \"valueTowardsCompletion\": 0.25, \"interactionType\": 1, \"questionType\": 1, \"questionId\": \"2_StrPoints\", \"learnToolsVersion\": \"0.3.4\", \"failureMessage\": \"\", \"exceptionClass\": \"\", \"trace\": \"\"}}, \"*\")"
      ],
      "text/plain": [
       "<IPython.core.display.Javascript object>"
      ]
     },
     "metadata": {},
     "output_type": "display_data"
    },
    {
     "data": {
      "text/markdown": [
       "<span style=\"color:#33cc33\">Correct</span>"
      ],
      "text/plain": [
       "Correct"
      ]
     },
     "metadata": {},
     "output_type": "display_data"
    }
   ],
   "source": [
    "point_strings = reviews.points.astype(str)\n",
    "\n",
    "# Check your answer\n",
    "q2.check()"
   ]
  },
  {
   "cell_type": "code",
   "execution_count": 5,
   "id": "e0d5a5bc",
   "metadata": {
    "execution": {
     "iopub.execute_input": "2023-05-28T18:42:13.602968Z",
     "iopub.status.busy": "2023-05-28T18:42:13.601907Z",
     "iopub.status.idle": "2023-05-28T18:42:13.612006Z",
     "shell.execute_reply": "2023-05-28T18:42:13.610606Z"
    },
    "papermill": {
     "duration": 0.020965,
     "end_time": "2023-05-28T18:42:13.614414",
     "exception": false,
     "start_time": "2023-05-28T18:42:13.593449",
     "status": "completed"
    },
    "tags": []
   },
   "outputs": [
    {
     "data": {
      "application/javascript": [
       "parent.postMessage({\"jupyterEvent\": \"custom.exercise_interaction\", \"data\": {\"interactionType\": 3, \"questionType\": 1, \"questionId\": \"2_StrPoints\", \"learnToolsVersion\": \"0.3.4\", \"valueTowardsCompletion\": 0.0, \"failureMessage\": \"\", \"exceptionClass\": \"\", \"trace\": \"\", \"outcomeType\": 4}}, \"*\")"
      ],
      "text/plain": [
       "<IPython.core.display.Javascript object>"
      ]
     },
     "metadata": {},
     "output_type": "display_data"
    },
    {
     "data": {
      "text/markdown": [
       "<span style=\"color:#33cc99\">Solution:</span> \n",
       "```python\n",
       "point_strings = reviews.points.astype(str)\n",
       "```"
      ],
      "text/plain": [
       "Solution: \n",
       "```python\n",
       "point_strings = reviews.points.astype(str)\n",
       "```"
      ]
     },
     "metadata": {},
     "output_type": "display_data"
    }
   ],
   "source": [
    "#q2.hint()\n",
    "q2.solution()"
   ]
  },
  {
   "cell_type": "markdown",
   "id": "90bef96d",
   "metadata": {
    "papermill": {
     "duration": 0.007199,
     "end_time": "2023-05-28T18:42:13.629717",
     "exception": false,
     "start_time": "2023-05-28T18:42:13.622518",
     "status": "completed"
    },
    "tags": []
   },
   "source": [
    "## 3.\n",
    "Sometimes the price column is null. How many reviews in the dataset are missing a price?"
   ]
  },
  {
   "cell_type": "code",
   "execution_count": 6,
   "id": "1ae3362a",
   "metadata": {
    "execution": {
     "iopub.execute_input": "2023-05-28T18:42:13.647516Z",
     "iopub.status.busy": "2023-05-28T18:42:13.646469Z",
     "iopub.status.idle": "2023-05-28T18:42:13.671161Z",
     "shell.execute_reply": "2023-05-28T18:42:13.669514Z"
    },
    "papermill": {
     "duration": 0.037014,
     "end_time": "2023-05-28T18:42:13.674159",
     "exception": false,
     "start_time": "2023-05-28T18:42:13.637145",
     "status": "completed"
    },
    "tags": []
   },
   "outputs": [
    {
     "data": {
      "application/javascript": [
       "parent.postMessage({\"jupyterEvent\": \"custom.exercise_interaction\", \"data\": {\"outcomeType\": 1, \"valueTowardsCompletion\": 0.25, \"interactionType\": 1, \"questionType\": 1, \"questionId\": \"3_CountMissingPrices\", \"learnToolsVersion\": \"0.3.4\", \"failureMessage\": \"\", \"exceptionClass\": \"\", \"trace\": \"\"}}, \"*\")"
      ],
      "text/plain": [
       "<IPython.core.display.Javascript object>"
      ]
     },
     "metadata": {},
     "output_type": "display_data"
    },
    {
     "data": {
      "text/markdown": [
       "<span style=\"color:#33cc33\">Correct</span>"
      ],
      "text/plain": [
       "Correct"
      ]
     },
     "metadata": {},
     "output_type": "display_data"
    }
   ],
   "source": [
    "missing_price_reviews = reviews[reviews.price.isnull()]\n",
    "n_missing_prices = len(missing_price_reviews)\n",
    "# Cute alternative solution: if we sum a boolean series, True is treated as 1 and False as 0\n",
    "n_missing_prices = reviews.price.isnull().sum()\n",
    "\n",
    "# Check your answer\n",
    "q3.check()"
   ]
  },
  {
   "cell_type": "code",
   "execution_count": 7,
   "id": "4f866616",
   "metadata": {
    "execution": {
     "iopub.execute_input": "2023-05-28T18:42:13.693916Z",
     "iopub.status.busy": "2023-05-28T18:42:13.692625Z",
     "iopub.status.idle": "2023-05-28T18:42:13.702796Z",
     "shell.execute_reply": "2023-05-28T18:42:13.701664Z"
    },
    "papermill": {
     "duration": 0.022021,
     "end_time": "2023-05-28T18:42:13.705017",
     "exception": false,
     "start_time": "2023-05-28T18:42:13.682996",
     "status": "completed"
    },
    "tags": []
   },
   "outputs": [
    {
     "data": {
      "application/javascript": [
       "parent.postMessage({\"jupyterEvent\": \"custom.exercise_interaction\", \"data\": {\"interactionType\": 3, \"questionType\": 1, \"questionId\": \"3_CountMissingPrices\", \"learnToolsVersion\": \"0.3.4\", \"valueTowardsCompletion\": 0.0, \"failureMessage\": \"\", \"exceptionClass\": \"\", \"trace\": \"\", \"outcomeType\": 4}}, \"*\")"
      ],
      "text/plain": [
       "<IPython.core.display.Javascript object>"
      ]
     },
     "metadata": {},
     "output_type": "display_data"
    },
    {
     "data": {
      "text/markdown": [
       "<span style=\"color:#33cc99\">Solution:</span> \n",
       "```python\n",
       "missing_price_reviews = reviews[reviews.price.isnull()]\n",
       "n_missing_prices = len(missing_price_reviews)\n",
       "# Cute alternative solution: if we sum a boolean series, True is treated as 1 and False as 0\n",
       "n_missing_prices = reviews.price.isnull().sum()\n",
       "# or equivalently:\n",
       "n_missing_prices = pd.isnull(reviews.price).sum()\n",
       "\n",
       "```"
      ],
      "text/plain": [
       "Solution: \n",
       "```python\n",
       "missing_price_reviews = reviews[reviews.price.isnull()]\n",
       "n_missing_prices = len(missing_price_reviews)\n",
       "# Cute alternative solution: if we sum a boolean series, True is treated as 1 and False as 0\n",
       "n_missing_prices = reviews.price.isnull().sum()\n",
       "# or equivalently:\n",
       "n_missing_prices = pd.isnull(reviews.price).sum()\n",
       "\n",
       "```"
      ]
     },
     "metadata": {},
     "output_type": "display_data"
    }
   ],
   "source": [
    "#q3.hint()\n",
    "q3.solution()"
   ]
  },
  {
   "cell_type": "markdown",
   "id": "8c2c808d",
   "metadata": {
    "papermill": {
     "duration": 0.008767,
     "end_time": "2023-05-28T18:42:13.722207",
     "exception": false,
     "start_time": "2023-05-28T18:42:13.713440",
     "status": "completed"
    },
    "tags": []
   },
   "source": [
    "## 4.\n",
    "What are the most common wine-producing regions? Create a Series counting the number of times each value occurs in the `region_1` field. This field is often missing data, so replace missing values with `Unknown`. Sort in descending order.  Your output should look something like this:\n",
    "\n",
    "```\n",
    "Unknown                    21247\n",
    "Napa Valley                 4480\n",
    "                           ...  \n",
    "Bardolino Superiore            1\n",
    "Primitivo del Tarantino        1\n",
    "Name: region_1, Length: 1230, dtype: int64\n",
    "```"
   ]
  },
  {
   "cell_type": "code",
   "execution_count": 8,
   "id": "f7298f7c",
   "metadata": {
    "execution": {
     "iopub.execute_input": "2023-05-28T18:42:13.743330Z",
     "iopub.status.busy": "2023-05-28T18:42:13.741993Z",
     "iopub.status.idle": "2023-05-28T18:42:13.825641Z",
     "shell.execute_reply": "2023-05-28T18:42:13.824466Z"
    },
    "papermill": {
     "duration": 0.097691,
     "end_time": "2023-05-28T18:42:13.828530",
     "exception": false,
     "start_time": "2023-05-28T18:42:13.730839",
     "status": "completed"
    },
    "tags": []
   },
   "outputs": [
    {
     "data": {
      "application/javascript": [
       "parent.postMessage({\"jupyterEvent\": \"custom.exercise_interaction\", \"data\": {\"outcomeType\": 1, \"valueTowardsCompletion\": 0.25, \"interactionType\": 1, \"questionType\": 2, \"questionId\": \"4_ReviewsPerRegion\", \"learnToolsVersion\": \"0.3.4\", \"failureMessage\": \"\", \"exceptionClass\": \"\", \"trace\": \"\"}}, \"*\")"
      ],
      "text/plain": [
       "<IPython.core.display.Javascript object>"
      ]
     },
     "metadata": {},
     "output_type": "display_data"
    },
    {
     "data": {
      "text/markdown": [
       "<span style=\"color:#33cc33\">Correct</span>"
      ],
      "text/plain": [
       "Correct"
      ]
     },
     "metadata": {},
     "output_type": "display_data"
    }
   ],
   "source": [
    "reviews_per_region = reviews.region_1.fillna('Unknown').value_counts().sort_values(ascending=False)\n",
    "\n",
    "# Check your answer\n",
    "q4.check()"
   ]
  },
  {
   "cell_type": "code",
   "execution_count": 9,
   "id": "feedc5b7",
   "metadata": {
    "execution": {
     "iopub.execute_input": "2023-05-28T18:42:13.848464Z",
     "iopub.status.busy": "2023-05-28T18:42:13.848039Z",
     "iopub.status.idle": "2023-05-28T18:42:13.857427Z",
     "shell.execute_reply": "2023-05-28T18:42:13.856030Z"
    },
    "papermill": {
     "duration": 0.023246,
     "end_time": "2023-05-28T18:42:13.860659",
     "exception": false,
     "start_time": "2023-05-28T18:42:13.837413",
     "status": "completed"
    },
    "tags": []
   },
   "outputs": [
    {
     "data": {
      "application/javascript": [
       "parent.postMessage({\"jupyterEvent\": \"custom.exercise_interaction\", \"data\": {\"interactionType\": 3, \"questionType\": 2, \"questionId\": \"4_ReviewsPerRegion\", \"learnToolsVersion\": \"0.3.4\", \"valueTowardsCompletion\": 0.0, \"failureMessage\": \"\", \"exceptionClass\": \"\", \"trace\": \"\", \"outcomeType\": 4}}, \"*\")"
      ],
      "text/plain": [
       "<IPython.core.display.Javascript object>"
      ]
     },
     "metadata": {},
     "output_type": "display_data"
    },
    {
     "data": {
      "text/markdown": [
       "<span style=\"color:#33cc99\">Solution:</span> \n",
       "```python\n",
       "reviews_per_region = reviews.region_1.fillna('Unknown').value_counts().sort_values(ascending=False)\n",
       "```"
      ],
      "text/plain": [
       "Solution: \n",
       "```python\n",
       "reviews_per_region = reviews.region_1.fillna('Unknown').value_counts().sort_values(ascending=False)\n",
       "```"
      ]
     },
     "metadata": {},
     "output_type": "display_data"
    }
   ],
   "source": [
    "#q4.hint()\n",
    "q4.solution()"
   ]
  },
  {
   "cell_type": "markdown",
   "id": "87e0ce54",
   "metadata": {
    "papermill": {
     "duration": 0.008531,
     "end_time": "2023-05-28T18:42:13.878545",
     "exception": false,
     "start_time": "2023-05-28T18:42:13.870014",
     "status": "completed"
    },
    "tags": []
   },
   "source": [
    "# Keep going\n",
    "\n",
    "Move on to **[renaming and combining](https://www.kaggle.com/residentmario/renaming-and-combining)**."
   ]
  },
  {
   "cell_type": "markdown",
   "id": "0d6a6361",
   "metadata": {
    "papermill": {
     "duration": 0.008844,
     "end_time": "2023-05-28T18:42:13.896953",
     "exception": false,
     "start_time": "2023-05-28T18:42:13.888109",
     "status": "completed"
    },
    "tags": []
   },
   "source": [
    "---\n",
    "\n",
    "\n",
    "\n",
    "\n",
    "*Have questions or comments? Visit the [course discussion forum](https://www.kaggle.com/learn/pandas/discussion) to chat with other learners.*"
   ]
  }
 ],
 "metadata": {
  "kernelspec": {
   "display_name": "Python 3",
   "language": "python",
   "name": "python3"
  },
  "language_info": {
   "codemirror_mode": {
    "name": "ipython",
    "version": 3
   },
   "file_extension": ".py",
   "mimetype": "text/x-python",
   "name": "python",
   "nbconvert_exporter": "python",
   "pygments_lexer": "ipython3",
   "version": "3.10.10"
  },
  "papermill": {
   "default_parameters": {},
   "duration": 18.269285,
   "end_time": "2023-05-28T18:42:14.831514",
   "environment_variables": {},
   "exception": null,
   "input_path": "__notebook__.ipynb",
   "output_path": "__notebook__.ipynb",
   "parameters": {},
   "start_time": "2023-05-28T18:41:56.562229",
   "version": "2.4.0"
  }
 },
 "nbformat": 4,
 "nbformat_minor": 5
}
